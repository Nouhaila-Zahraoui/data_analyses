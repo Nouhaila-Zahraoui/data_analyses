print("fourth program to go : regression linéaire")
import pandas as pd
import matplotlib.pyplot as plt
from scipy import stats
import numpy as np
import statsmodels.api as sm
def predict(x):
    return slope * x + intercept
df = pd.read_csv(("iris.csv"), names=['sepal length','sepal width','petal length',
                                        
            'petal width', 'target'], usecols=['sepal length','sepal width'])
X =  df.iloc[0:len(df),0] #selection de la première colonne de notre dataset
Y =  df.iloc[0:len(df),1]
axes = plt.axes()
axes.grid()
plt.scatter(X,Y)
slope, intercept, r_value, p_value, std_err = stats.linregress(X, Y)
fitLine = predict(X)
plt.plot(X, fitLine, c='r')
plt.show()
#utiliser une variable indépendante pour prédire une variable dépendante
#La régression linéaire utilise une droite pour approximer la relation entre les variables, 
#c'est pour cela qu'on parle de "linéaire". La droite est définie par une équation de la forme
#Y = a + bX, où Y est la variable cible, X est la variable indépendante, a est l'ordonnée à 
#l'origine (intercept) et b est la pente de la droite (coefficient)

