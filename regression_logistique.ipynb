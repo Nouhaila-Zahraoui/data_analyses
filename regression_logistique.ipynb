print("sixth program to go : logistical regression")
import numpy as np
import pandas as pd
import matplotlib.pyplot as plt
 
# Importing Sklearn module and classes
from sklearn.linear_model import LogisticRegression
from sklearn.preprocessing import StandardScaler
from sklearn import metrics
from sklearn import datasets
from sklearn.model_selection import train_test_split
iris = datasets.load_iris()
X = iris.data[:, [0, 2]]
Y = iris.target
X_train, X_test, Y_train, Y_test = train_test_split(X, Y, test_size=0.3, random_state=1, stratify=Y)
sc = StandardScaler()
sc.fit(X_train)
X_train_std = sc.transform(X_train)
X_test_std = sc.transform(X_test)
	
# Create an instance of LogisticRegression classifier
lr = LogisticRegression(C=100.0, random_state=1, solver='lbfgs', multi_class='ovr')
 
# Fit the model
#
lr.fit(X_train_std, Y_train)

# Create the predictions
#
Y_predict = lr.predict(X_test_std)
 
# Use metrics.accuracy_score to measure the score
print("LogisticRegression Accuracy %.3f" %metrics.accuracy_score(Y_test, Y_predict))
#accuracy : Il mesure la proportion de prédictions correctes effectuées par le modèle par rapport au nombre total de prédictions.


