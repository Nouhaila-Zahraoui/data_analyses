print("first program to go : CAH")
import pandas as pd
import numpy as np
import matplotlib.pyplot as plt
from sklearn.preprocessing import normalize
import scipy.cluster.hierarchy as shc
from sklearn.cluster import AgglomerativeClustering
%matplotlib inline
data = pd.read_csv(("iris.csv"), names=['sepal length',
'sepal width','petal length','petal width'], 
usecols=['sepal length','sepal width','petal length',
         'petal width'])

data_scaled = normalize(data)
data_scaled = pd.DataFrame(data_scaled, columns=data.columns)
data_scaled.head()
plt.figure(figsize=(10, 7))  
plt.title("Dendrograms")  
dend = shc.dendrogram(shc.linkage(data_scaled, method='ward'))

#cet algorithme est utilisé pour regrouper les individus d'une façon à ce que les individus
#dans un groupe soient les plus semblables(homogiénité intraclasse) tandit que les classes soient 
#les plus le plus dissemblables (hétérogénéité inter-classe)
#Le principe de la CAH est de rassembler des individus selon un critère de ressemblance défini
#au préalable qui s’exprimera sous la forme d’une matrice de distances, exprimant la distance 
#existant entre chaque individu pris deux à deux. Deux observations identiques auront une 
#distance nulle. Plus les deux observations seront dissemblables, plus la distance sera 
#importante. La CAH va ensuite rassembler les individus de manière itérative afin de produire
#un dendrogramme ou arbre de classification.