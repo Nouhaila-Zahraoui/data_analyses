print("fifth program to go : anova")
import pandas as pd
from statsmodels.formula.api import ols
import statsmodels.api as sm
data= pd.read_csv(('iris.csv'), names=['sepal_length','sepal_width','petal_length',
                                        
            'petal_width', 'target'])
data.head()

mod = ols('sepal_length ~ target',
                data=data).fit()
                
aov_table = sm.stats.anova_lm(mod, typ=2)
print(aov_table)
#sum_sq : la somme des carrés des erreurs
#df : degré de libérté
#F : la statistique de test F pour chaque source d'erreur, calculée en divisant la moyenne des carrés pour l'effet considéré par 
#la moyenne des carrés pour l'erreur.
#PR(>F) : le niveau de signification pour chaque source d'erreur. Il s'agit de la probabilité d'obtenir une valeur de la statistique
#de test F aussi élevée ou plus élevée que celle observée, pour des degrés de liberté donnés, s'il n'y a pas d'effet réel
pair_t = mod.t_test_pairwise('target')
pair_t.result_frame
#1-coef: Le coefficient (ou la p-value) en ANOVA est utilisé pour déterminer si les différences observées dans les moyennes des groupes
#sont significatives ou si elles peuvent être attribuées au hasard.
#2-std err:  l'écart-type des erreurs pour chaque groupe
#3-t: la valeur de test t pour chaque comparaison de groupe
#4-P>|t|:  la probabilité que la valeur de test t soit inférieure ou égale à la valeur observée, pour une distribution à une queue
#5-Conf. Int. Low: la borne inférieure de l'intervalle de confiance pour la moyenne de chaque groupe. Il indique la valeur minimale de 
#la moyenne de chaque groupe que l'on peut attendre avec une certaine confiance 
#6-Conf. Int. Upp: la borne supérieur de l'intervalle de confiance pour la moyenne de chaque groupe. Il indique la valeur maximale de 
#la moyenne de chaque groupe que l'on peut attendre avec une certaine confiance
#7-pvalue-hs: un niveau de significativité utilisé pour déterminer si il existe une différence statistiquement significative entre les
#moyennes de plusieurs groupes.
#8-reject-hs: une valeur "True" indique que l'hypothèse nulle est rejetée pour cette comparaison, tandis qu'une valeur "False" indique 
# que l'hypothèse nulle n'est pas rejetée. L'hypothèse nulle dans une ANOVA est généralement que les moyennes des groupes sont égales.
